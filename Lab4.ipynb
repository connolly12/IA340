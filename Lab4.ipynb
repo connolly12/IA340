{
 "cells": [
  {
   "cell_type": "markdown",
   "id": "d99b50cb",
   "metadata": {},
   "source": [
    "# import ib"
   ]
  },
  {
   "cell_type": "code",
   "execution_count": 1,
   "id": "e8520d5d",
   "metadata": {},
   "outputs": [
    {
     "name": "stderr",
     "output_type": "stream",
     "text": [
      "/home/ec2-user/anaconda3/envs/python3/lib/python3.6/site-packages/psycopg2/__init__.py:144: UserWarning: The psycopg2 wheel package will be renamed from release 2.8; in order to keep installing from binary please use \"pip install psycopg2-binary\" instead. For details see: <http://initd.org/psycopg/docs/install.html#binary-install-from-pypi>.\n",
      "  \"\"\")\n"
     ]
    }
   ],
   "source": [
    "import pandas\n",
    "import psycopg2\n",
    "import configparser"
   ]
  },
  {
   "cell_type": "markdown",
   "id": "7fb38c76",
   "metadata": {},
   "source": [
    "# connect to db"
   ]
  },
  {
   "cell_type": "code",
   "execution_count": 2,
   "id": "8758ac24",
   "metadata": {},
   "outputs": [],
   "source": [
    "config = configparser.ConfigParser()\n",
    "config.read('config.ini')\n",
    "\n",
    "host=config['myaws']['host']\n",
    "db=config['myaws']['db']\n",
    "user=config['myaws']['user']\n",
    "pwd = config['myaws']['pwd']\n",
    "\n",
    "conn = psycopg2.connect(  host=host,\n",
    "                       user=user,\n",
    "                       password = pwd,\n",
    "                       dbname=db)"
   ]
  },
  {
   "cell_type": "code",
   "execution_count": 3,
   "id": "ca26307b",
   "metadata": {},
   "outputs": [],
   "source": [
    "cur=conn.cursor()"
   ]
  },
  {
   "cell_type": "markdown",
   "id": "4fb2fec3",
   "metadata": {},
   "source": [
    "# q1"
   ]
  },
  {
   "cell_type": "code",
   "execution_count": 4,
   "id": "c29bc158",
   "metadata": {},
   "outputs": [
    {
     "data": {
      "text/html": [
       "<div>\n",
       "<style scoped>\n",
       "    .dataframe tbody tr th:only-of-type {\n",
       "        vertical-align: middle;\n",
       "    }\n",
       "\n",
       "    .dataframe tbody tr th {\n",
       "        vertical-align: top;\n",
       "    }\n",
       "\n",
       "    .dataframe thead th {\n",
       "        text-align: right;\n",
       "    }\n",
       "</style>\n",
       "<table border=\"1\" class=\"dataframe\">\n",
       "  <thead>\n",
       "    <tr style=\"text-align: right;\">\n",
       "      <th></th>\n",
       "      <th>s_email</th>\n",
       "      <th>s_name</th>\n",
       "      <th>major</th>\n",
       "    </tr>\n",
       "  </thead>\n",
       "  <tbody>\n",
       "    <tr>\n",
       "      <th>0</th>\n",
       "      <td>conno3sm@dukes.jmu.edu</td>\n",
       "      <td>Sean Connolly</td>\n",
       "      <td>Intel Analysis</td>\n",
       "    </tr>\n",
       "    <tr>\n",
       "      <th>1</th>\n",
       "      <td>blackjt@dukes.jmu.edu</td>\n",
       "      <td>Jacob Black</td>\n",
       "      <td>Intel Analysis</td>\n",
       "    </tr>\n",
       "    <tr>\n",
       "      <th>2</th>\n",
       "      <td>s3@jmu.edu</td>\n",
       "      <td>s3</td>\n",
       "      <td>Intel Analysis</td>\n",
       "    </tr>\n",
       "    <tr>\n",
       "      <th>3</th>\n",
       "      <td>s4@jmu.edu</td>\n",
       "      <td>s4</td>\n",
       "      <td>Intel Analysis</td>\n",
       "    </tr>\n",
       "    <tr>\n",
       "      <th>4</th>\n",
       "      <td>s6@jmu.edu</td>\n",
       "      <td>s5</td>\n",
       "      <td>ia</td>\n",
       "    </tr>\n",
       "  </tbody>\n",
       "</table>\n",
       "</div>"
      ],
      "text/plain": [
       "                  s_email         s_name           major\n",
       "0  conno3sm@dukes.jmu.edu  Sean Connolly  Intel Analysis\n",
       "1   blackjt@dukes.jmu.edu    Jacob Black  Intel Analysis\n",
       "2              s3@jmu.edu             s3  Intel Analysis\n",
       "3              s4@jmu.edu             s4  Intel Analysis\n",
       "4              s6@jmu.edu             s5              ia"
      ]
     },
     "execution_count": 4,
     "metadata": {},
     "output_type": "execute_result"
    }
   ],
   "source": [
    "df_student=pandas.read_sql_query('select * from gp28.student',conn)\n",
    "df_student[:]"
   ]
  },
  {
   "cell_type": "markdown",
   "id": "23e2a367",
   "metadata": {},
   "source": [
    "# q2"
   ]
  },
  {
   "cell_type": "code",
   "execution_count": 19,
   "id": "746db46f",
   "metadata": {},
   "outputs": [],
   "source": [
    "sql_q2 = \"\"\"select gp28.professor.p_name, gp28.course.c_name \n",
    "from gp28.professor \n",
    "inner join gp28.course \n",
    "on gp28.professor.p_email = gp28.course.p_email\n",
    "\n",
    "\"\"\""
   ]
  },
  {
   "cell_type": "code",
   "execution_count": 20,
   "id": "ac7e839e",
   "metadata": {},
   "outputs": [
    {
     "data": {
      "text/html": [
       "<div>\n",
       "<style scoped>\n",
       "    .dataframe tbody tr th:only-of-type {\n",
       "        vertical-align: middle;\n",
       "    }\n",
       "\n",
       "    .dataframe tbody tr th {\n",
       "        vertical-align: top;\n",
       "    }\n",
       "\n",
       "    .dataframe thead th {\n",
       "        text-align: right;\n",
       "    }\n",
       "</style>\n",
       "<table border=\"1\" class=\"dataframe\">\n",
       "  <thead>\n",
       "    <tr style=\"text-align: right;\">\n",
       "      <th></th>\n",
       "      <th>p_name</th>\n",
       "      <th>c_name</th>\n",
       "    </tr>\n",
       "  </thead>\n",
       "  <tbody>\n",
       "    <tr>\n",
       "      <th>0</th>\n",
       "      <td>Xuebin Wei</td>\n",
       "      <td>data mining</td>\n",
       "    </tr>\n",
       "    <tr>\n",
       "      <th>1</th>\n",
       "      <td>Stphen Marrin</td>\n",
       "      <td>issues in IA</td>\n",
       "    </tr>\n",
       "    <tr>\n",
       "      <th>2</th>\n",
       "      <td>Noel Hendrickson</td>\n",
       "      <td>reasoning</td>\n",
       "    </tr>\n",
       "    <tr>\n",
       "      <th>3</th>\n",
       "      <td>Zhuojun Duan</td>\n",
       "      <td>intro to java</td>\n",
       "    </tr>\n",
       "    <tr>\n",
       "      <th>4</th>\n",
       "      <td>Joe Thomas</td>\n",
       "      <td>geology</td>\n",
       "    </tr>\n",
       "    <tr>\n",
       "      <th>5</th>\n",
       "      <td>Mary Williams</td>\n",
       "      <td>countries</td>\n",
       "    </tr>\n",
       "    <tr>\n",
       "      <th>6</th>\n",
       "      <td>peter krien</td>\n",
       "      <td>IA study</td>\n",
       "    </tr>\n",
       "    <tr>\n",
       "      <th>7</th>\n",
       "      <td>peter krien</td>\n",
       "      <td>advanced java</td>\n",
       "    </tr>\n",
       "  </tbody>\n",
       "</table>\n",
       "</div>"
      ],
      "text/plain": [
       "             p_name         c_name\n",
       "0        Xuebin Wei    data mining\n",
       "1     Stphen Marrin   issues in IA\n",
       "2  Noel Hendrickson      reasoning\n",
       "3      Zhuojun Duan  intro to java\n",
       "4        Joe Thomas        geology\n",
       "5     Mary Williams      countries\n",
       "6       peter krien       IA study\n",
       "7       peter krien  advanced java"
      ]
     },
     "execution_count": 20,
     "metadata": {},
     "output_type": "execute_result"
    }
   ],
   "source": [
    "df = pandas.read_sql_query(sql_q2,conn)\n",
    "df[:]"
   ]
  },
  {
   "cell_type": "markdown",
   "id": "fce17fdd",
   "metadata": {},
   "source": [
    "# q3"
   ]
  },
  {
   "cell_type": "code",
   "execution_count": 21,
   "id": "0fa9ac4e",
   "metadata": {},
   "outputs": [],
   "source": [
    "sql_q3 = \"\"\" select c_number, count(c_number) as enrolled\n",
    "from gp28.enroll_list group by c_number order by enrolled desc\n",
    "\"\"\""
   ]
  },
  {
   "cell_type": "code",
   "execution_count": 23,
   "id": "23635c91",
   "metadata": {},
   "outputs": [
    {
     "data": {
      "text/plain": [
       "<AxesSubplot:xlabel='c_number'>"
      ]
     },
     "execution_count": 23,
     "metadata": {},
     "output_type": "execute_result"
    },
    {
     "data": {
      "image/png": "[encoded data removed]",
      "text/plain": [
       "<Figure size 432x288 with 1 Axes>"
      ]
     },
     "metadata": {
      "needs_background": "light"
     },
     "output_type": "display_data"
    }
   ],
   "source": [
    "df = pandas.read_sql_query(sql_q3,conn)\n",
    "df.plot.bar(y='enrolled', x='c_number')"
   ]
  },
  {
   "cell_type": "markdown",
   "id": "7d9b4c69",
   "metadata": {},
   "source": [
    "# q4"
   ]
  },
  {
   "cell_type": "code",
   "execution_count": 24,
   "id": "685f478a",
   "metadata": {},
   "outputs": [],
   "source": [
    "sql_q4 = \"\"\" select gp28.professor.p_name, count(gp28.course.c_name) as teaching_number\n",
    "from gp28.professor inner join gp28.course\n",
    "on gp28.professor.p_email = gp28.course.p_email\n",
    "group by professor.p_name order by teaching_number desc\n",
    "\"\"\""
   ]
  },
  {
   "cell_type": "code",
   "execution_count": 26,
   "id": "9d992394",
   "metadata": {},
   "outputs": [
    {
     "data": {
      "text/plain": [
       "<AxesSubplot:xlabel='p_name'>"
      ]
     },
     "execution_count": 26,
     "metadata": {},
     "output_type": "execute_result"
    },
    {
     "data": {
      "image/png": "[encoded data removed]",
      "text/plain": [
       "<Figure size 432x288 with 1 Axes>"
      ]
     },
     "metadata": {
      "needs_background": "light"
     },
     "output_type": "display_data"
    }
   ],
   "source": [
    "df = pandas.read_sql_query(sql_q4,conn)\n",
    "df.plot.bar(y='teaching_number', x='p_name')"
   ]
  },
  {
   "cell_type": "markdown",
   "id": "84405571",
   "metadata": {},
   "source": [
    "# q5"
   ]
  },
  {
   "cell_type": "code",
   "execution_count": 49,
   "id": "318327fc",
   "metadata": {},
   "outputs": [],
   "source": [
    "sql_q5_professor = \"\"\" insert into gp28.professor(p_email,p_name,p_office)\n",
    "values('{}','{}','{}')\n",
    "\"\"\".format('new_p@jmu.edu','new_p','new_office')"
   ]
  },
  {
   "cell_type": "code",
   "execution_count": 50,
   "id": "868c286f",
   "metadata": {},
   "outputs": [],
   "source": [
    "cur.execute(sql_q5_professor)"
   ]
  },
  {
   "cell_type": "code",
   "execution_count": 51,
   "id": "dff3b1c3",
   "metadata": {},
   "outputs": [],
   "source": [
    "conn.commit()"
   ]
  },
  {
   "cell_type": "code",
   "execution_count": 52,
   "id": "04679a98",
   "metadata": {},
   "outputs": [
    {
     "data": {
      "text/html": [
       "<div>\n",
       "<style scoped>\n",
       "    .dataframe tbody tr th:only-of-type {\n",
       "        vertical-align: middle;\n",
       "    }\n",
       "\n",
       "    .dataframe tbody tr th {\n",
       "        vertical-align: top;\n",
       "    }\n",
       "\n",
       "    .dataframe thead th {\n",
       "        text-align: right;\n",
       "    }\n",
       "</style>\n",
       "<table border=\"1\" class=\"dataframe\">\n",
       "  <thead>\n",
       "    <tr style=\"text-align: right;\">\n",
       "      <th></th>\n",
       "      <th>p_email</th>\n",
       "      <th>p_name</th>\n",
       "      <th>p_office</th>\n",
       "    </tr>\n",
       "  </thead>\n",
       "  <tbody>\n",
       "    <tr>\n",
       "      <th>0</th>\n",
       "      <td>duanzx@jmu.edu</td>\n",
       "      <td>Zhuojun Duan</td>\n",
       "      <td>ISAT 246B\\n</td>\n",
       "    </tr>\n",
       "    <tr>\n",
       "      <th>1</th>\n",
       "      <td>marrinsp@jmu.edu</td>\n",
       "      <td>Stphen Marrin</td>\n",
       "      <td>EnGeo 2104</td>\n",
       "    </tr>\n",
       "    <tr>\n",
       "      <th>2</th>\n",
       "      <td>weixx@jmu.edu</td>\n",
       "      <td>Xuebin Wei</td>\n",
       "      <td>ISAT 112</td>\n",
       "    </tr>\n",
       "    <tr>\n",
       "      <th>3</th>\n",
       "      <td>hendrinx@jmu.edu</td>\n",
       "      <td>Noel Hendrickson</td>\n",
       "      <td>ISAT 317\\n</td>\n",
       "    </tr>\n",
       "    <tr>\n",
       "      <th>4</th>\n",
       "      <td>thomasj@jmu.edu</td>\n",
       "      <td>Joe Thomas</td>\n",
       "      <td>ISAT 211</td>\n",
       "    </tr>\n",
       "    <tr>\n",
       "      <th>5</th>\n",
       "      <td>williamsm@jmu.edu</td>\n",
       "      <td>Mary Williams</td>\n",
       "      <td>EnGeo 342\\n</td>\n",
       "    </tr>\n",
       "    <tr>\n",
       "      <th>6</th>\n",
       "      <td>t8@jmu.edu</td>\n",
       "      <td>peter krien</td>\n",
       "      <td>ISAT 191</td>\n",
       "    </tr>\n",
       "    <tr>\n",
       "      <th>7</th>\n",
       "      <td>new_p@jmu.edu</td>\n",
       "      <td>new_p</td>\n",
       "      <td>new_office</td>\n",
       "    </tr>\n",
       "  </tbody>\n",
       "</table>\n",
       "</div>"
      ],
      "text/plain": [
       "             p_email            p_name     p_office\n",
       "0     duanzx@jmu.edu      Zhuojun Duan  ISAT 246B\\n\n",
       "1   marrinsp@jmu.edu     Stphen Marrin   EnGeo 2104\n",
       "2      weixx@jmu.edu        Xuebin Wei     ISAT 112\n",
       "3   hendrinx@jmu.edu  Noel Hendrickson   ISAT 317\\n\n",
       "4    thomasj@jmu.edu        Joe Thomas     ISAT 211\n",
       "5  williamsm@jmu.edu     Mary Williams  EnGeo 342\\n\n",
       "6         t8@jmu.edu       peter krien     ISAT 191\n",
       "7      new_p@jmu.edu             new_p   new_office"
      ]
     },
     "execution_count": 52,
     "metadata": {},
     "output_type": "execute_result"
    }
   ],
   "source": [
    "df=pandas.read_sql_query('select * from gp28.professor',conn)\n",
    "df[:]"
   ]
  },
  {
   "cell_type": "code",
   "execution_count": 53,
   "id": "84248d64",
   "metadata": {},
   "outputs": [],
   "source": [
    "sql_q5_course = \"\"\" insert into gp28.course(c_number,c_name,c_room,p_email)\n",
    "values('{}','{}','{}','{}')\n",
    "\"\"\".format('ia_new','new_c_name','online','new_p@jmu.edu') "
   ]
  },
  {
   "cell_type": "code",
   "execution_count": 54,
   "id": "e04b086b",
   "metadata": {},
   "outputs": [],
   "source": [
    "cur.execute(sql_q5_course)"
   ]
  },
  {
   "cell_type": "code",
   "execution_count": 55,
   "id": "98b72055",
   "metadata": {},
   "outputs": [],
   "source": [
    "conn.commit()"
   ]
  },
  {
   "cell_type": "code",
   "execution_count": 56,
   "id": "5feeabb5",
   "metadata": {},
   "outputs": [
    {
     "data": {
      "text/html": [
       "<div>\n",
       "<style scoped>\n",
       "    .dataframe tbody tr th:only-of-type {\n",
       "        vertical-align: middle;\n",
       "    }\n",
       "\n",
       "    .dataframe tbody tr th {\n",
       "        vertical-align: top;\n",
       "    }\n",
       "\n",
       "    .dataframe thead th {\n",
       "        text-align: right;\n",
       "    }\n",
       "</style>\n",
       "<table border=\"1\" class=\"dataframe\">\n",
       "  <thead>\n",
       "    <tr style=\"text-align: right;\">\n",
       "      <th></th>\n",
       "      <th>c_number</th>\n",
       "      <th>c_name</th>\n",
       "      <th>c_room</th>\n",
       "      <th>p_email</th>\n",
       "    </tr>\n",
       "  </thead>\n",
       "  <tbody>\n",
       "    <tr>\n",
       "      <th>0</th>\n",
       "      <td>IA340</td>\n",
       "      <td>data mining</td>\n",
       "      <td>EnGeo 2010</td>\n",
       "      <td>weixx@jmu.edu</td>\n",
       "    </tr>\n",
       "    <tr>\n",
       "      <th>1</th>\n",
       "      <td>IA300</td>\n",
       "      <td>issues in IA</td>\n",
       "      <td>ISAT 0150</td>\n",
       "      <td>marrinsp@jmu.edu</td>\n",
       "    </tr>\n",
       "    <tr>\n",
       "      <th>2</th>\n",
       "      <td>IA313</td>\n",
       "      <td>reasoning</td>\n",
       "      <td>EnGeo 1204</td>\n",
       "      <td>hendrinx@jmu.edu</td>\n",
       "    </tr>\n",
       "    <tr>\n",
       "      <th>3</th>\n",
       "      <td>CS149</td>\n",
       "      <td>intro to java</td>\n",
       "      <td>ISAT 0248</td>\n",
       "      <td>duanzx@jmu.edu</td>\n",
       "    </tr>\n",
       "    <tr>\n",
       "      <th>4</th>\n",
       "      <td>Geo216</td>\n",
       "      <td>geology</td>\n",
       "      <td>EnGeo 116</td>\n",
       "      <td>thomasj@jmu.edu</td>\n",
       "    </tr>\n",
       "    <tr>\n",
       "      <th>5</th>\n",
       "      <td>Geo280</td>\n",
       "      <td>countries</td>\n",
       "      <td>EnGeo 207</td>\n",
       "      <td>williamsm@jmu.edu</td>\n",
       "    </tr>\n",
       "    <tr>\n",
       "      <th>6</th>\n",
       "      <td>IA 320</td>\n",
       "      <td>IA study</td>\n",
       "      <td>ISAT 300</td>\n",
       "      <td>t8@jmu.edu</td>\n",
       "    </tr>\n",
       "    <tr>\n",
       "      <th>7</th>\n",
       "      <td>CS200</td>\n",
       "      <td>advanced java</td>\n",
       "      <td>ISAT 0248</td>\n",
       "      <td>t8@jmu.edu</td>\n",
       "    </tr>\n",
       "    <tr>\n",
       "      <th>8</th>\n",
       "      <td>ia_new</td>\n",
       "      <td>new_c_name</td>\n",
       "      <td>online</td>\n",
       "      <td>new_p@jmu.edu</td>\n",
       "    </tr>\n",
       "  </tbody>\n",
       "</table>\n",
       "</div>"
      ],
      "text/plain": [
       "  c_number         c_name      c_room            p_email\n",
       "0    IA340    data mining  EnGeo 2010      weixx@jmu.edu\n",
       "1    IA300   issues in IA   ISAT 0150   marrinsp@jmu.edu\n",
       "2    IA313      reasoning  EnGeo 1204   hendrinx@jmu.edu\n",
       "3    CS149  intro to java   ISAT 0248     duanzx@jmu.edu\n",
       "4   Geo216        geology   EnGeo 116    thomasj@jmu.edu\n",
       "5   Geo280      countries   EnGeo 207  williamsm@jmu.edu\n",
       "6   IA 320       IA study    ISAT 300         t8@jmu.edu\n",
       "7    CS200  advanced java   ISAT 0248         t8@jmu.edu\n",
       "8   ia_new     new_c_name      online      new_p@jmu.edu"
      ]
     },
     "execution_count": 56,
     "metadata": {},
     "output_type": "execute_result"
    }
   ],
   "source": [
    "df=pandas.read_sql_query('select * from gp28.course',conn)\n",
    "df[:]"
   ]
  },
  {
   "cell_type": "markdown",
   "id": "47dd224c",
   "metadata": {},
   "source": [
    "# q6"
   ]
  },
  {
   "cell_type": "code",
   "execution_count": 34,
   "id": "1ec80f21",
   "metadata": {},
   "outputs": [],
   "source": [
    "sql_q6_course = \"\"\" update gp28.course set p_email = '{}' where p_email = '{}'\n",
    "\"\"\".format('new_p@jmu.edu','weixx@jmu.edu') "
   ]
  },
  {
   "cell_type": "code",
   "execution_count": 35,
   "id": "6714ee78",
   "metadata": {},
   "outputs": [],
   "source": [
    "cur.execute(sql_q6_course)"
   ]
  },
  {
   "cell_type": "code",
   "execution_count": 36,
   "id": "6daf4ade",
   "metadata": {},
   "outputs": [],
   "source": [
    "#cur.execute('ROLLBACK')"
   ]
  },
  {
   "cell_type": "code",
   "execution_count": 37,
   "id": "758c8f4c",
   "metadata": {},
   "outputs": [],
   "source": [
    "conn.commit()"
   ]
  },
  {
   "cell_type": "code",
   "execution_count": 38,
   "id": "ced8e2d3",
   "metadata": {},
   "outputs": [
    {
     "data": {
      "text/html": [
       "<div>\n",
       "<style scoped>\n",
       "    .dataframe tbody tr th:only-of-type {\n",
       "        vertical-align: middle;\n",
       "    }\n",
       "\n",
       "    .dataframe tbody tr th {\n",
       "        vertical-align: top;\n",
       "    }\n",
       "\n",
       "    .dataframe thead th {\n",
       "        text-align: right;\n",
       "    }\n",
       "</style>\n",
       "<table border=\"1\" class=\"dataframe\">\n",
       "  <thead>\n",
       "    <tr style=\"text-align: right;\">\n",
       "      <th></th>\n",
       "      <th>c_number</th>\n",
       "      <th>c_name</th>\n",
       "      <th>c_room</th>\n",
       "      <th>p_email</th>\n",
       "    </tr>\n",
       "  </thead>\n",
       "  <tbody>\n",
       "    <tr>\n",
       "      <th>0</th>\n",
       "      <td>IA300</td>\n",
       "      <td>issues in IA</td>\n",
       "      <td>ISAT 0150</td>\n",
       "      <td>marrinsp@jmu.edu</td>\n",
       "    </tr>\n",
       "    <tr>\n",
       "      <th>1</th>\n",
       "      <td>IA313</td>\n",
       "      <td>reasoning</td>\n",
       "      <td>EnGeo 1204</td>\n",
       "      <td>hendrinx@jmu.edu</td>\n",
       "    </tr>\n",
       "    <tr>\n",
       "      <th>2</th>\n",
       "      <td>CS149</td>\n",
       "      <td>intro to java</td>\n",
       "      <td>ISAT 0248</td>\n",
       "      <td>duanzx@jmu.edu</td>\n",
       "    </tr>\n",
       "    <tr>\n",
       "      <th>3</th>\n",
       "      <td>Geo216</td>\n",
       "      <td>geology</td>\n",
       "      <td>EnGeo 116</td>\n",
       "      <td>thomasj@jmu.edu</td>\n",
       "    </tr>\n",
       "    <tr>\n",
       "      <th>4</th>\n",
       "      <td>Geo280</td>\n",
       "      <td>countries</td>\n",
       "      <td>EnGeo 207</td>\n",
       "      <td>williamsm@jmu.edu</td>\n",
       "    </tr>\n",
       "    <tr>\n",
       "      <th>5</th>\n",
       "      <td>IA 320</td>\n",
       "      <td>IA study</td>\n",
       "      <td>ISAT 300</td>\n",
       "      <td>t8@jmu.edu</td>\n",
       "    </tr>\n",
       "    <tr>\n",
       "      <th>6</th>\n",
       "      <td>CS200</td>\n",
       "      <td>advanced java</td>\n",
       "      <td>ISAT 0248</td>\n",
       "      <td>t8@jmu.edu</td>\n",
       "    </tr>\n",
       "    <tr>\n",
       "      <th>7</th>\n",
       "      <td>ia_new</td>\n",
       "      <td>new_c_name</td>\n",
       "      <td>online</td>\n",
       "      <td>new_p@jmu.edu</td>\n",
       "    </tr>\n",
       "    <tr>\n",
       "      <th>8</th>\n",
       "      <td>IA340</td>\n",
       "      <td>data mining</td>\n",
       "      <td>EnGeo 2010</td>\n",
       "      <td>new_p@jmu.edu</td>\n",
       "    </tr>\n",
       "  </tbody>\n",
       "</table>\n",
       "</div>"
      ],
      "text/plain": [
       "  c_number         c_name      c_room            p_email\n",
       "0    IA300   issues in IA   ISAT 0150   marrinsp@jmu.edu\n",
       "1    IA313      reasoning  EnGeo 1204   hendrinx@jmu.edu\n",
       "2    CS149  intro to java   ISAT 0248     duanzx@jmu.edu\n",
       "3   Geo216        geology   EnGeo 116    thomasj@jmu.edu\n",
       "4   Geo280      countries   EnGeo 207  williamsm@jmu.edu\n",
       "5   IA 320       IA study    ISAT 300         t8@jmu.edu\n",
       "6    CS200  advanced java   ISAT 0248         t8@jmu.edu\n",
       "7   ia_new     new_c_name      online      new_p@jmu.edu\n",
       "8    IA340    data mining  EnGeo 2010      new_p@jmu.edu"
      ]
     },
     "execution_count": 38,
     "metadata": {},
     "output_type": "execute_result"
    }
   ],
   "source": [
    "df=pandas.read_sql_query('select * from gp28.course',conn)\n",
    "df[:]"
   ]
  },
  {
   "cell_type": "code",
   "execution_count": 39,
   "id": "a3df1333",
   "metadata": {},
   "outputs": [],
   "source": [
    "sql_q6_professor = \"\"\"delete from gp28.professor where p_email = '{}' \n",
    "\"\"\".format('weixx@jmu.edu.edu') "
   ]
  },
  {
   "cell_type": "raw",
   "id": "f4fceab4",
   "metadata": {},
   "source": [
    "cur.execute(sql_q6_professor)"
   ]
  },
  {
   "cell_type": "code",
   "execution_count": 40,
   "id": "7a568c5f",
   "metadata": {},
   "outputs": [],
   "source": [
    "conn.commit()"
   ]
  },
  {
   "cell_type": "code",
   "execution_count": 41,
   "id": "c2bfd272",
   "metadata": {},
   "outputs": [
    {
     "data": {
      "text/html": [
       "<div>\n",
       "<style scoped>\n",
       "    .dataframe tbody tr th:only-of-type {\n",
       "        vertical-align: middle;\n",
       "    }\n",
       "\n",
       "    .dataframe tbody tr th {\n",
       "        vertical-align: top;\n",
       "    }\n",
       "\n",
       "    .dataframe thead th {\n",
       "        text-align: right;\n",
       "    }\n",
       "</style>\n",
       "<table border=\"1\" class=\"dataframe\">\n",
       "  <thead>\n",
       "    <tr style=\"text-align: right;\">\n",
       "      <th></th>\n",
       "      <th>p_email</th>\n",
       "      <th>p_name</th>\n",
       "      <th>p_office</th>\n",
       "    </tr>\n",
       "  </thead>\n",
       "  <tbody>\n",
       "    <tr>\n",
       "      <th>0</th>\n",
       "      <td>duanzx@jmu.edu</td>\n",
       "      <td>Zhuojun Duan</td>\n",
       "      <td>ISAT 246B\\n</td>\n",
       "    </tr>\n",
       "    <tr>\n",
       "      <th>1</th>\n",
       "      <td>marrinsp@jmu.edu</td>\n",
       "      <td>Stphen Marrin</td>\n",
       "      <td>EnGeo 2104</td>\n",
       "    </tr>\n",
       "    <tr>\n",
       "      <th>2</th>\n",
       "      <td>weixx@jmu.edu</td>\n",
       "      <td>Xuebin Wei</td>\n",
       "      <td>ISAT 112</td>\n",
       "    </tr>\n",
       "    <tr>\n",
       "      <th>3</th>\n",
       "      <td>hendrinx@jmu.edu</td>\n",
       "      <td>Noel Hendrickson</td>\n",
       "      <td>ISAT 317\\n</td>\n",
       "    </tr>\n",
       "    <tr>\n",
       "      <th>4</th>\n",
       "      <td>thomasj@jmu.edu</td>\n",
       "      <td>Joe Thomas</td>\n",
       "      <td>ISAT 211</td>\n",
       "    </tr>\n",
       "    <tr>\n",
       "      <th>5</th>\n",
       "      <td>williamsm@jmu.edu</td>\n",
       "      <td>Mary Williams</td>\n",
       "      <td>EnGeo 342\\n</td>\n",
       "    </tr>\n",
       "    <tr>\n",
       "      <th>6</th>\n",
       "      <td>t8@jmu.edu</td>\n",
       "      <td>peter krien</td>\n",
       "      <td>ISAT 191</td>\n",
       "    </tr>\n",
       "    <tr>\n",
       "      <th>7</th>\n",
       "      <td>new_p@jmu.edu</td>\n",
       "      <td>new_p</td>\n",
       "      <td>new_office</td>\n",
       "    </tr>\n",
       "  </tbody>\n",
       "</table>\n",
       "</div>"
      ],
      "text/plain": [
       "             p_email            p_name     p_office\n",
       "0     duanzx@jmu.edu      Zhuojun Duan  ISAT 246B\\n\n",
       "1   marrinsp@jmu.edu     Stphen Marrin   EnGeo 2104\n",
       "2      weixx@jmu.edu        Xuebin Wei     ISAT 112\n",
       "3   hendrinx@jmu.edu  Noel Hendrickson   ISAT 317\\n\n",
       "4    thomasj@jmu.edu        Joe Thomas     ISAT 211\n",
       "5  williamsm@jmu.edu     Mary Williams  EnGeo 342\\n\n",
       "6         t8@jmu.edu       peter krien     ISAT 191\n",
       "7      new_p@jmu.edu             new_p   new_office"
      ]
     },
     "execution_count": 41,
     "metadata": {},
     "output_type": "execute_result"
    }
   ],
   "source": [
    "df=pandas.read_sql_query('select * from gp28.professor', conn)\n",
    "df[:]"
   ]
  },
  {
   "cell_type": "code",
   "execution_count": 42,
   "id": "95bb6f12",
   "metadata": {},
   "outputs": [],
   "source": [
    "cur.close()"
   ]
  },
  {
   "cell_type": "code",
   "execution_count": 43,
   "id": "06b9aa4b",
   "metadata": {},
   "outputs": [],
   "source": [
    "conn.close()"
   ]
  },
  {
   "cell_type": "code",
   "execution_count": null,
   "id": "635c5291",
   "metadata": {},
   "outputs": [],
   "source": []
  }
 ],
 "metadata": {
  "kernelspec": {
   "display_name": "conda_python3",
   "language": "python",
   "name": "conda_python3"
  },
  "language_info": {
   "codemirror_mode": {
    "name": "ipython",
    "version": 3
   },
   "file_extension": ".py",
   "mimetype": "text/x-python",
   "name": "python",
   "nbconvert_exporter": "python",
   "pygments_lexer": "ipython3",
   "version": "3.6.13"
  }
 },
 "nbformat": 4,
 "nbformat_minor": 5
}
